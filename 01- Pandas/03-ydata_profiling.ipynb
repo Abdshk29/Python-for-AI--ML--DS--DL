{
 "cells": [
  {
   "cell_type": "markdown",
   "metadata": {},
   "source": [
    "**Automatic EDA using ydata_profiling**"
   ]
  },
  {
   "cell_type": "code",
   "execution_count": 1,
   "metadata": {},
   "outputs": [
    {
     "name": "stderr",
     "output_type": "stream",
     "text": [
      "c:\\Users\\HP\\AppData\\Local\\Programs\\Python\\Python312\\Lib\\site-packages\\tqdm\\auto.py:21: TqdmWarning: IProgress not found. Please update jupyter and ipywidgets. See https://ipywidgets.readthedocs.io/en/stable/user_install.html\n",
      "  from .autonotebook import tqdm as notebook_tqdm\n"
     ]
    }
   ],
   "source": [
    "#importing libraries\n",
    "import pandas as pd\n",
    "import seaborn as sns\n",
    "import ydata_profiling as yp"
   ]
  },
  {
   "cell_type": "code",
   "execution_count": 2,
   "metadata": {},
   "outputs": [],
   "source": [
    "#import dataset\n",
    "df = sns.load_dataset('titanic')"
   ]
  },
  {
   "cell_type": "code",
   "execution_count": 3,
   "metadata": {},
   "outputs": [],
   "source": [
    "#ydata profiling report\n",
    "# profile = yp.ProfileReport(df)\n",
    "# profile.to_file(output_file='./outputs/yp_titanic.html')"
   ]
  },
  {
   "cell_type": "markdown",
   "metadata": {},
   "source": [
    "**Doing the same task on Pak population**"
   ]
  },
  {
   "cell_type": "code",
   "execution_count": 4,
   "metadata": {},
   "outputs": [],
   "source": [
    "df_pop = pd.read_csv('sub-division_population_of_pakistan.csv')"
   ]
  },
  {
   "cell_type": "code",
   "execution_count": 5,
   "metadata": {},
   "outputs": [],
   "source": [
    "# profile = yp.ProfileReport(df_pop)\n",
    "# profile.to_file(output_file='./outputs/yp_Pakistan.html')"
   ]
  },
  {
   "cell_type": "code",
   "execution_count": 7,
   "metadata": {},
   "outputs": [
    {
     "name": "stderr",
     "output_type": "stream",
     "text": [
      "Summarize dataset:  82%|████████▏ | 23/28 [00:00<00:00, 24.47it/s, Calculate auto correlation]                  c:\\Users\\HP\\AppData\\Local\\Programs\\Python\\Python312\\Lib\\site-packages\\ydata_profiling\\model\\correlations.py:66: UserWarning: There was an attempt to calculate the auto correlation, but this failed.\n",
      "To hide this warning, disable the calculation\n",
      "(using `df.profile_report(correlations={\"auto\": {\"calculate\": False}})`\n",
      "If this is problematic for your use case, please report this as an issue:\n",
      "https://github.com/ydataai/ydata-profiling/issues\n",
      "(include the error message: 'could not convert string to float: 'BAHAWALPUR DIVISION'')\n",
      "  warnings.warn(\n",
      "Summarize dataset: 100%|██████████| 319/319 [01:34<00:00,  3.37it/s, Completed]                                                     \n",
      "Generate report structure: 100%|██████████| 1/1 [00:20<00:00, 20.94s/it]\n",
      "Render HTML: 100%|██████████| 1/1 [00:19<00:00, 19.84s/it]\n",
      "Export report to file: 100%|██████████| 1/1 [00:00<00:00,  1.79it/s]\n"
     ]
    }
   ],
   "source": [
    "profile = yp.ProfileReport(df_pop)\n",
    "profile.to_file(output_file = './outputs/yp_Pop of Pakistan.html')"
   ]
  }
 ],
 "metadata": {
  "kernelspec": {
   "display_name": "Python 3",
   "language": "python",
   "name": "python3"
  },
  "language_info": {
   "codemirror_mode": {
    "name": "ipython",
    "version": 3
   },
   "file_extension": ".py",
   "mimetype": "text/x-python",
   "name": "python",
   "nbconvert_exporter": "python",
   "pygments_lexer": "ipython3",
   "version": "3.12.1"
  }
 },
 "nbformat": 4,
 "nbformat_minor": 2
}
